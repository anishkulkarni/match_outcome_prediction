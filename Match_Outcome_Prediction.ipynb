{
  "nbformat": 4,
  "nbformat_minor": 0,
  "metadata": {
    "accelerator": "GPU",
    "colab": {
      "name": "Match_Outcome_Prediction.ipynb",
      "provenance": [],
      "collapsed_sections": []
    },
    "kernelspec": {
      "display_name": "Python 3",
      "language": "python",
      "name": "python3"
    },
    "language_info": {
      "codemirror_mode": {
        "name": "ipython",
        "version": 3
      },
      "file_extension": ".py",
      "mimetype": "text/x-python",
      "name": "python",
      "nbconvert_exporter": "python",
      "pygments_lexer": "ipython3",
      "version": "3.7.7"
    }
  },
  "cells": [
    {
      "cell_type": "markdown",
      "metadata": {
        "colab_type": "text",
        "id": "0YJgoJGb9oAL"
      },
      "source": [
        "# Import required packages"
      ]
    },
    {
      "cell_type": "markdown",
      "metadata": {
        "colab_type": "text",
        "id": "hGl6dQd09LX1"
      },
      "source": [
        "Import Numpy"
      ]
    },
    {
      "cell_type": "code",
      "metadata": {
        "colab_type": "code",
        "id": "fpQpMUDl9Pab",
        "colab": {}
      },
      "source": [
        "import numpy as np"
      ],
      "execution_count": null,
      "outputs": []
    },
    {
      "cell_type": "markdown",
      "metadata": {
        "colab_type": "text",
        "id": "L0Hbwiu59RwZ"
      },
      "source": [
        "Import Pandas"
      ]
    },
    {
      "cell_type": "code",
      "metadata": {
        "colab_type": "code",
        "id": "M0C5jHRx9Ty_",
        "colab": {}
      },
      "source": [
        "import pandas as pd"
      ],
      "execution_count": null,
      "outputs": []
    },
    {
      "cell_type": "markdown",
      "metadata": {
        "colab_type": "text",
        "id": "l1POPq109WVz"
      },
      "source": [
        "Import Pyplot from Matplotlib"
      ]
    },
    {
      "cell_type": "code",
      "metadata": {
        "colab_type": "code",
        "id": "6gTGT3FC9aJd",
        "colab": {}
      },
      "source": [
        "import matplotlib.pyplot as plt"
      ],
      "execution_count": null,
      "outputs": []
    },
    {
      "cell_type": "markdown",
      "metadata": {
        "colab_type": "text",
        "id": "PDaPC2JN9h8c"
      },
      "source": [
        "Import Scikit Learn Modules"
      ]
    },
    {
      "cell_type": "code",
      "metadata": {
        "colab_type": "code",
        "id": "knzv3vdSCOi9",
        "colab": {}
      },
      "source": [
        "from sklearn import linear_model\n",
        "from sklearn import ensemble\n",
        "from sklearn.model_selection import train_test_split\n",
        "from sklearn.metrics import confusion_matrix, roc_curve, roc_auc_score\n",
        "from sklearn.pipeline import Pipeline\n",
        "from sklearn.preprocessing import PolynomialFeatures\n",
        "from sklearn import preprocessing\n",
        "from sklearn.naive_bayes import GaussianNB\n",
        "from sklearn import metrics\n",
        "from sklearn.neighbors import KNeighborsClassifier\n",
        "from sklearn import svm"
      ],
      "execution_count": null,
      "outputs": []
    },
    {
      "cell_type": "markdown",
      "metadata": {
        "id": "0_rZoXgfAkUy",
        "colab_type": "text"
      },
      "source": [
        "Import Seaborn"
      ]
    },
    {
      "cell_type": "code",
      "metadata": {
        "scrolled": true,
        "id": "j9xEtiLtAkUz",
        "colab_type": "code",
        "colab": {
          "base_uri": "https://localhost:8080/",
          "height": 70
        },
        "outputId": "aeb14540-a2e4-4bb2-ec24-6c2425da78f0"
      },
      "source": [
        "import seaborn as sns"
      ],
      "execution_count": null,
      "outputs": [
        {
          "output_type": "stream",
          "text": [
            "/usr/local/lib/python3.6/dist-packages/statsmodels/tools/_testing.py:19: FutureWarning: pandas.util.testing is deprecated. Use the functions in the public API at pandas.testing instead.\n",
            "  import pandas.util.testing as tm\n"
          ],
          "name": "stderr"
        }
      ]
    },
    {
      "cell_type": "markdown",
      "metadata": {
        "id": "7hWiMILMAkU5",
        "colab_type": "text"
      },
      "source": [
        "Import Pickle"
      ]
    },
    {
      "cell_type": "code",
      "metadata": {
        "id": "6VNMV8DVAkU6",
        "colab_type": "code",
        "colab": {}
      },
      "source": [
        "import pickle"
      ],
      "execution_count": null,
      "outputs": []
    },
    {
      "cell_type": "markdown",
      "metadata": {
        "id": "yxH1UdZzAkU9",
        "colab_type": "text"
      },
      "source": [
        "Import Tensorflow"
      ]
    },
    {
      "cell_type": "code",
      "metadata": {
        "id": "vATrqFBqAkU-",
        "colab_type": "code",
        "colab": {}
      },
      "source": [
        "import tensorflow as tf"
      ],
      "execution_count": null,
      "outputs": []
    },
    {
      "cell_type": "markdown",
      "metadata": {
        "id": "Al4yv1iEAkVB",
        "colab_type": "text"
      },
      "source": [
        "Import keras"
      ]
    },
    {
      "cell_type": "code",
      "metadata": {
        "id": "9reVTZ4xAkVC",
        "colab_type": "code",
        "colab": {
          "base_uri": "https://localhost:8080/",
          "height": 34
        },
        "outputId": "0ae1aba8-acb4-4bdd-8165-0ac35c1eff9c"
      },
      "source": [
        "from keras.models import Sequential\n",
        "from keras.layers import Dense"
      ],
      "execution_count": null,
      "outputs": [
        {
          "output_type": "stream",
          "text": [
            "Using TensorFlow backend.\n"
          ],
          "name": "stderr"
        }
      ]
    },
    {
      "cell_type": "markdown",
      "metadata": {
        "colab_type": "text",
        "id": "22NNKcat7tcE"
      },
      "source": [
        "# Dataset ETL"
      ]
    },
    {
      "cell_type": "markdown",
      "metadata": {
        "colab_type": "text",
        "id": "LR4OvMDDn7ZK"
      },
      "source": [
        "Loading of Rankings Dataset"
      ]
    },
    {
      "cell_type": "code",
      "metadata": {
        "id": "vqnGi5GFVi2D",
        "colab_type": "code",
        "colab": {}
      },
      "source": [
        "rankings_path = \"/content/fifa_ranking.csv\"\n",
        "matches_path = \"/content/results.csv\""
      ],
      "execution_count": null,
      "outputs": []
    },
    {
      "cell_type": "code",
      "metadata": {
        "scrolled": false,
        "id": "Rb9xaH0ZAkVG",
        "colab_type": "code",
        "colab": {}
      },
      "source": [
        "#read ranking file\n",
        "rankings_df = pd.read_csv(rankings_path)"
      ],
      "execution_count": null,
      "outputs": []
    },
    {
      "cell_type": "markdown",
      "metadata": {
        "id": "86w6dwESAkVL",
        "colab_type": "text"
      },
      "source": [
        "Load Matches Dataset"
      ]
    },
    {
      "cell_type": "code",
      "metadata": {
        "id": "Lfyt-VhxAkVL",
        "colab_type": "code",
        "colab": {}
      },
      "source": [
        "#read match results file\n",
        "matches_df = pd.read_csv(matches_path)"
      ],
      "execution_count": null,
      "outputs": []
    },
    {
      "cell_type": "markdown",
      "metadata": {
        "id": "UK2ub7eKAkVO",
        "colab_type": "text"
      },
      "source": [
        "# Data Preprocessing"
      ]
    },
    {
      "cell_type": "markdown",
      "metadata": {
        "id": "zvaiKIyXAkVP",
        "colab_type": "text"
      },
      "source": [
        "Preprocessing of Rankings dataset"
      ]
    },
    {
      "cell_type": "code",
      "metadata": {
        "id": "s1yzDmGSAkVP",
        "colab_type": "code",
        "colab": {}
      },
      "source": [
        "#select required columns\n",
        "rankings_df = rankings_df.loc[:,['rank', 'country_full', 'cur_year_avg_weighted', 'rank_date', 'two_year_ago_weighted', 'three_year_ago_weighted', 'confederation']]\n",
        "#aggregate points\n",
        "rankings_df['weighted_points'] =  rankings_df['cur_year_avg_weighted'] + rankings_df['two_year_ago_weighted'] + rankings_df['three_year_ago_weighted']\n",
        "#convert date string to date object\n",
        "rankings_df['rank_date'] = pd.to_datetime(rankings_df['rank_date'])\n",
        "#extract year from date\n",
        "rankings_df['rank_year'] = pd.DatetimeIndex(rankings_df['rank_date']).year\n",
        "#extract useful columns\n",
        "rankings_df = rankings_df.loc[:, ['rank', 'country_full', 'weighted_points', 'rank_year']]\n",
        "#aggregate rank and points\n",
        "rankings_df = rankings_df.groupby(['country_full', 'rank_year']).mean().reset_index()"
      ],
      "execution_count": null,
      "outputs": []
    },
    {
      "cell_type": "markdown",
      "metadata": {
        "id": "A_7_dXrSAkVS",
        "colab_type": "text"
      },
      "source": [
        "Display rows of Rankings dataset"
      ]
    },
    {
      "cell_type": "code",
      "metadata": {
        "id": "7o5fLixkAkVT",
        "colab_type": "code",
        "colab": {
          "base_uri": "https://localhost:8080/",
          "height": 402
        },
        "outputId": "ea23a613-c1ed-4551-e6f5-3afbfb455b28"
      },
      "source": [
        "rankings_df"
      ],
      "execution_count": null,
      "outputs": [
        {
          "output_type": "execute_result",
          "data": {
            "text/html": [
              "<div>\n",
              "<style scoped>\n",
              "    .dataframe tbody tr th:only-of-type {\n",
              "        vertical-align: middle;\n",
              "    }\n",
              "\n",
              "    .dataframe tbody tr th {\n",
              "        vertical-align: top;\n",
              "    }\n",
              "\n",
              "    .dataframe thead th {\n",
              "        text-align: right;\n",
              "    }\n",
              "</style>\n",
              "<table border=\"1\" class=\"dataframe\">\n",
              "  <thead>\n",
              "    <tr style=\"text-align: right;\">\n",
              "      <th></th>\n",
              "      <th>country_full</th>\n",
              "      <th>rank_year</th>\n",
              "      <th>rank</th>\n",
              "      <th>weighted_points</th>\n",
              "    </tr>\n",
              "  </thead>\n",
              "  <tbody>\n",
              "    <tr>\n",
              "      <th>0</th>\n",
              "      <td>Afghanistan</td>\n",
              "      <td>2003</td>\n",
              "      <td>199.000000</td>\n",
              "      <td>0.000000</td>\n",
              "    </tr>\n",
              "    <tr>\n",
              "      <th>1</th>\n",
              "      <td>Afghanistan</td>\n",
              "      <td>2004</td>\n",
              "      <td>197.500000</td>\n",
              "      <td>0.000000</td>\n",
              "    </tr>\n",
              "    <tr>\n",
              "      <th>2</th>\n",
              "      <td>Afghanistan</td>\n",
              "      <td>2005</td>\n",
              "      <td>198.833333</td>\n",
              "      <td>0.000000</td>\n",
              "    </tr>\n",
              "    <tr>\n",
              "      <th>3</th>\n",
              "      <td>Afghanistan</td>\n",
              "      <td>2006</td>\n",
              "      <td>181.454545</td>\n",
              "      <td>0.000000</td>\n",
              "    </tr>\n",
              "    <tr>\n",
              "      <th>4</th>\n",
              "      <td>Afghanistan</td>\n",
              "      <td>2007</td>\n",
              "      <td>186.250000</td>\n",
              "      <td>0.000000</td>\n",
              "    </tr>\n",
              "    <tr>\n",
              "      <th>...</th>\n",
              "      <td>...</td>\n",
              "      <td>...</td>\n",
              "      <td>...</td>\n",
              "      <td>...</td>\n",
              "    </tr>\n",
              "    <tr>\n",
              "      <th>5250</th>\n",
              "      <td>Zimbabwe</td>\n",
              "      <td>2014</td>\n",
              "      <td>99.750000</td>\n",
              "      <td>252.050000</td>\n",
              "    </tr>\n",
              "    <tr>\n",
              "      <th>5251</th>\n",
              "      <td>Zimbabwe</td>\n",
              "      <td>2015</td>\n",
              "      <td>114.250000</td>\n",
              "      <td>198.882500</td>\n",
              "    </tr>\n",
              "    <tr>\n",
              "      <th>5252</th>\n",
              "      <td>Zimbabwe</td>\n",
              "      <td>2016</td>\n",
              "      <td>115.583333</td>\n",
              "      <td>248.017500</td>\n",
              "    </tr>\n",
              "    <tr>\n",
              "      <th>5253</th>\n",
              "      <td>Zimbabwe</td>\n",
              "      <td>2017</td>\n",
              "      <td>105.833333</td>\n",
              "      <td>234.076667</td>\n",
              "    </tr>\n",
              "    <tr>\n",
              "      <th>5254</th>\n",
              "      <td>Zimbabwe</td>\n",
              "      <td>2018</td>\n",
              "      <td>110.000000</td>\n",
              "      <td>210.781667</td>\n",
              "    </tr>\n",
              "  </tbody>\n",
              "</table>\n",
              "<p>5255 rows × 4 columns</p>\n",
              "</div>"
            ],
            "text/plain": [
              "     country_full  rank_year        rank  weighted_points\n",
              "0     Afghanistan       2003  199.000000         0.000000\n",
              "1     Afghanistan       2004  197.500000         0.000000\n",
              "2     Afghanistan       2005  198.833333         0.000000\n",
              "3     Afghanistan       2006  181.454545         0.000000\n",
              "4     Afghanistan       2007  186.250000         0.000000\n",
              "...           ...        ...         ...              ...\n",
              "5250     Zimbabwe       2014   99.750000       252.050000\n",
              "5251     Zimbabwe       2015  114.250000       198.882500\n",
              "5252     Zimbabwe       2016  115.583333       248.017500\n",
              "5253     Zimbabwe       2017  105.833333       234.076667\n",
              "5254     Zimbabwe       2018  110.000000       210.781667\n",
              "\n",
              "[5255 rows x 4 columns]"
            ]
          },
          "metadata": {
            "tags": []
          },
          "execution_count": 14
        }
      ]
    },
    {
      "cell_type": "markdown",
      "metadata": {
        "colab_type": "text",
        "id": "9c9Hwi2yoBEI"
      },
      "source": [
        "Preprocessing of Match Results dataset"
      ]
    },
    {
      "cell_type": "code",
      "metadata": {
        "id": "jcCQsFxHAkVW",
        "colab_type": "code",
        "colab": {}
      },
      "source": [
        "#convert date string to date object\n",
        "matches_df['date'] = pd.to_datetime(matches_df['date'])\n",
        "#extract year from date\n",
        "matches_df['match_year'] = pd.DatetimeIndex(matches_df['date']).year\n",
        "matches_df = matches_df.loc[:, ['match_year', 'home_team', 'away_team', 'home_score', 'away_score', 'neutral', 'tournament']]"
      ],
      "execution_count": null,
      "outputs": []
    },
    {
      "cell_type": "markdown",
      "metadata": {
        "id": "qiQlZnA_AkVZ",
        "colab_type": "text"
      },
      "source": [
        "Display rows of Match Results dataset"
      ]
    },
    {
      "cell_type": "code",
      "metadata": {
        "id": "2sUjAKu5AkVa",
        "colab_type": "code",
        "colab": {
          "base_uri": "https://localhost:8080/",
          "height": 402
        },
        "outputId": "64e89713-c87c-4cd5-9eec-a631b5c20bfb"
      },
      "source": [
        "matches_df"
      ],
      "execution_count": null,
      "outputs": [
        {
          "output_type": "execute_result",
          "data": {
            "text/html": [
              "<div>\n",
              "<style scoped>\n",
              "    .dataframe tbody tr th:only-of-type {\n",
              "        vertical-align: middle;\n",
              "    }\n",
              "\n",
              "    .dataframe tbody tr th {\n",
              "        vertical-align: top;\n",
              "    }\n",
              "\n",
              "    .dataframe thead th {\n",
              "        text-align: right;\n",
              "    }\n",
              "</style>\n",
              "<table border=\"1\" class=\"dataframe\">\n",
              "  <thead>\n",
              "    <tr style=\"text-align: right;\">\n",
              "      <th></th>\n",
              "      <th>match_year</th>\n",
              "      <th>home_team</th>\n",
              "      <th>away_team</th>\n",
              "      <th>home_score</th>\n",
              "      <th>away_score</th>\n",
              "      <th>neutral</th>\n",
              "      <th>tournament</th>\n",
              "    </tr>\n",
              "  </thead>\n",
              "  <tbody>\n",
              "    <tr>\n",
              "      <th>0</th>\n",
              "      <td>1872</td>\n",
              "      <td>Scotland</td>\n",
              "      <td>England</td>\n",
              "      <td>0</td>\n",
              "      <td>0</td>\n",
              "      <td>False</td>\n",
              "      <td>Friendly</td>\n",
              "    </tr>\n",
              "    <tr>\n",
              "      <th>1</th>\n",
              "      <td>1873</td>\n",
              "      <td>England</td>\n",
              "      <td>Scotland</td>\n",
              "      <td>4</td>\n",
              "      <td>2</td>\n",
              "      <td>False</td>\n",
              "      <td>Friendly</td>\n",
              "    </tr>\n",
              "    <tr>\n",
              "      <th>2</th>\n",
              "      <td>1874</td>\n",
              "      <td>Scotland</td>\n",
              "      <td>England</td>\n",
              "      <td>2</td>\n",
              "      <td>1</td>\n",
              "      <td>False</td>\n",
              "      <td>Friendly</td>\n",
              "    </tr>\n",
              "    <tr>\n",
              "      <th>3</th>\n",
              "      <td>1875</td>\n",
              "      <td>England</td>\n",
              "      <td>Scotland</td>\n",
              "      <td>2</td>\n",
              "      <td>2</td>\n",
              "      <td>False</td>\n",
              "      <td>Friendly</td>\n",
              "    </tr>\n",
              "    <tr>\n",
              "      <th>4</th>\n",
              "      <td>1876</td>\n",
              "      <td>Scotland</td>\n",
              "      <td>England</td>\n",
              "      <td>3</td>\n",
              "      <td>0</td>\n",
              "      <td>False</td>\n",
              "      <td>Friendly</td>\n",
              "    </tr>\n",
              "    <tr>\n",
              "      <th>...</th>\n",
              "      <td>...</td>\n",
              "      <td>...</td>\n",
              "      <td>...</td>\n",
              "      <td>...</td>\n",
              "      <td>...</td>\n",
              "      <td>...</td>\n",
              "      <td>...</td>\n",
              "    </tr>\n",
              "    <tr>\n",
              "      <th>41581</th>\n",
              "      <td>2020</td>\n",
              "      <td>Barbados</td>\n",
              "      <td>Canada</td>\n",
              "      <td>1</td>\n",
              "      <td>4</td>\n",
              "      <td>True</td>\n",
              "      <td>Friendly</td>\n",
              "    </tr>\n",
              "    <tr>\n",
              "      <th>41582</th>\n",
              "      <td>2020</td>\n",
              "      <td>Kosovo</td>\n",
              "      <td>Sweden</td>\n",
              "      <td>0</td>\n",
              "      <td>1</td>\n",
              "      <td>True</td>\n",
              "      <td>Friendly</td>\n",
              "    </tr>\n",
              "    <tr>\n",
              "      <th>41583</th>\n",
              "      <td>2020</td>\n",
              "      <td>Canada</td>\n",
              "      <td>Iceland</td>\n",
              "      <td>0</td>\n",
              "      <td>1</td>\n",
              "      <td>True</td>\n",
              "      <td>Friendly</td>\n",
              "    </tr>\n",
              "    <tr>\n",
              "      <th>41584</th>\n",
              "      <td>2020</td>\n",
              "      <td>El Salvador</td>\n",
              "      <td>Iceland</td>\n",
              "      <td>0</td>\n",
              "      <td>1</td>\n",
              "      <td>True</td>\n",
              "      <td>Friendly</td>\n",
              "    </tr>\n",
              "    <tr>\n",
              "      <th>41585</th>\n",
              "      <td>2020</td>\n",
              "      <td>United States</td>\n",
              "      <td>Costa Rica</td>\n",
              "      <td>1</td>\n",
              "      <td>0</td>\n",
              "      <td>False</td>\n",
              "      <td>Friendly</td>\n",
              "    </tr>\n",
              "  </tbody>\n",
              "</table>\n",
              "<p>41586 rows × 7 columns</p>\n",
              "</div>"
            ],
            "text/plain": [
              "       match_year      home_team   away_team  ...  away_score  neutral  tournament\n",
              "0            1872       Scotland     England  ...           0    False    Friendly\n",
              "1            1873        England    Scotland  ...           2    False    Friendly\n",
              "2            1874       Scotland     England  ...           1    False    Friendly\n",
              "3            1875        England    Scotland  ...           2    False    Friendly\n",
              "4            1876       Scotland     England  ...           0    False    Friendly\n",
              "...           ...            ...         ...  ...         ...      ...         ...\n",
              "41581        2020       Barbados      Canada  ...           4     True    Friendly\n",
              "41582        2020         Kosovo      Sweden  ...           1     True    Friendly\n",
              "41583        2020         Canada     Iceland  ...           1     True    Friendly\n",
              "41584        2020    El Salvador     Iceland  ...           1     True    Friendly\n",
              "41585        2020  United States  Costa Rica  ...           0    False    Friendly\n",
              "\n",
              "[41586 rows x 7 columns]"
            ]
          },
          "metadata": {
            "tags": []
          },
          "execution_count": 16
        }
      ]
    },
    {
      "cell_type": "markdown",
      "metadata": {
        "id": "U4VDnptPAkVc",
        "colab_type": "text"
      },
      "source": [
        "Join the two datasets"
      ]
    },
    {
      "cell_type": "code",
      "metadata": {
        "id": "eW5Mg-JmAkVd",
        "colab_type": "code",
        "colab": {}
      },
      "source": [
        "merged_df = matches_df.merge(rankings_df, how='left', left_on=['match_year', 'home_team'], right_on=['rank_year', 'country_full'])\n",
        "merged_df = merged_df.merge(rankings_df, how='left', left_on=['match_year', 'away_team'], right_on=['rank_year', 'country_full'], suffixes=('_home', '_away'))\n",
        "merged_df = merged_df.dropna()\n",
        "merged_df.reset_index(inplace=True)"
      ],
      "execution_count": null,
      "outputs": []
    },
    {
      "cell_type": "markdown",
      "metadata": {
        "id": "fnLA5lB9AkVf",
        "colab_type": "text"
      },
      "source": [
        "Display rows of merged datasets"
      ]
    },
    {
      "cell_type": "code",
      "metadata": {
        "scrolled": true,
        "id": "2DMDjwKxAkVf",
        "colab_type": "code",
        "colab": {
          "base_uri": "https://localhost:8080/",
          "height": 489
        },
        "outputId": "c2eda472-d1f8-4155-b801-f827599a26f2"
      },
      "source": [
        "merged_df"
      ],
      "execution_count": null,
      "outputs": [
        {
          "output_type": "execute_result",
          "data": {
            "text/html": [
              "<div>\n",
              "<style scoped>\n",
              "    .dataframe tbody tr th:only-of-type {\n",
              "        vertical-align: middle;\n",
              "    }\n",
              "\n",
              "    .dataframe tbody tr th {\n",
              "        vertical-align: top;\n",
              "    }\n",
              "\n",
              "    .dataframe thead th {\n",
              "        text-align: right;\n",
              "    }\n",
              "</style>\n",
              "<table border=\"1\" class=\"dataframe\">\n",
              "  <thead>\n",
              "    <tr style=\"text-align: right;\">\n",
              "      <th></th>\n",
              "      <th>index</th>\n",
              "      <th>match_year</th>\n",
              "      <th>home_team</th>\n",
              "      <th>away_team</th>\n",
              "      <th>home_score</th>\n",
              "      <th>away_score</th>\n",
              "      <th>neutral</th>\n",
              "      <th>tournament</th>\n",
              "      <th>country_full_home</th>\n",
              "      <th>rank_year_home</th>\n",
              "      <th>rank_home</th>\n",
              "      <th>weighted_points_home</th>\n",
              "      <th>country_full_away</th>\n",
              "      <th>rank_year_away</th>\n",
              "      <th>rank_away</th>\n",
              "      <th>weighted_points_away</th>\n",
              "    </tr>\n",
              "  </thead>\n",
              "  <tbody>\n",
              "    <tr>\n",
              "      <th>0</th>\n",
              "      <td>17374</td>\n",
              "      <td>1993</td>\n",
              "      <td>Ghana</td>\n",
              "      <td>Mali</td>\n",
              "      <td>1</td>\n",
              "      <td>1</td>\n",
              "      <td>True</td>\n",
              "      <td>Friendly</td>\n",
              "      <td>Ghana</td>\n",
              "      <td>1993.0</td>\n",
              "      <td>41.600000</td>\n",
              "      <td>0.000000</td>\n",
              "      <td>Mali</td>\n",
              "      <td>1993.0</td>\n",
              "      <td>72.400000</td>\n",
              "      <td>0.000000</td>\n",
              "    </tr>\n",
              "    <tr>\n",
              "      <th>1</th>\n",
              "      <td>17375</td>\n",
              "      <td>1993</td>\n",
              "      <td>Gabon</td>\n",
              "      <td>Burkina Faso</td>\n",
              "      <td>1</td>\n",
              "      <td>1</td>\n",
              "      <td>False</td>\n",
              "      <td>Friendly</td>\n",
              "      <td>Gabon</td>\n",
              "      <td>1993.0</td>\n",
              "      <td>57.000000</td>\n",
              "      <td>0.000000</td>\n",
              "      <td>Burkina Faso</td>\n",
              "      <td>1993.0</td>\n",
              "      <td>121.000000</td>\n",
              "      <td>0.000000</td>\n",
              "    </tr>\n",
              "    <tr>\n",
              "      <th>2</th>\n",
              "      <td>17376</td>\n",
              "      <td>1993</td>\n",
              "      <td>Kuwait</td>\n",
              "      <td>Lebanon</td>\n",
              "      <td>2</td>\n",
              "      <td>0</td>\n",
              "      <td>False</td>\n",
              "      <td>Friendly</td>\n",
              "      <td>Kuwait</td>\n",
              "      <td>1993.0</td>\n",
              "      <td>62.200000</td>\n",
              "      <td>0.000000</td>\n",
              "      <td>Lebanon</td>\n",
              "      <td>1993.0</td>\n",
              "      <td>109.400000</td>\n",
              "      <td>0.000000</td>\n",
              "    </tr>\n",
              "    <tr>\n",
              "      <th>3</th>\n",
              "      <td>17377</td>\n",
              "      <td>1993</td>\n",
              "      <td>Burkina Faso</td>\n",
              "      <td>Mali</td>\n",
              "      <td>1</td>\n",
              "      <td>0</td>\n",
              "      <td>True</td>\n",
              "      <td>Friendly</td>\n",
              "      <td>Burkina Faso</td>\n",
              "      <td>1993.0</td>\n",
              "      <td>121.000000</td>\n",
              "      <td>0.000000</td>\n",
              "      <td>Mali</td>\n",
              "      <td>1993.0</td>\n",
              "      <td>72.400000</td>\n",
              "      <td>0.000000</td>\n",
              "    </tr>\n",
              "    <tr>\n",
              "      <th>4</th>\n",
              "      <td>17378</td>\n",
              "      <td>1993</td>\n",
              "      <td>Gabon</td>\n",
              "      <td>Ghana</td>\n",
              "      <td>2</td>\n",
              "      <td>3</td>\n",
              "      <td>False</td>\n",
              "      <td>Friendly</td>\n",
              "      <td>Gabon</td>\n",
              "      <td>1993.0</td>\n",
              "      <td>57.000000</td>\n",
              "      <td>0.000000</td>\n",
              "      <td>Ghana</td>\n",
              "      <td>1993.0</td>\n",
              "      <td>41.600000</td>\n",
              "      <td>0.000000</td>\n",
              "    </tr>\n",
              "    <tr>\n",
              "      <th>...</th>\n",
              "      <td>...</td>\n",
              "      <td>...</td>\n",
              "      <td>...</td>\n",
              "      <td>...</td>\n",
              "      <td>...</td>\n",
              "      <td>...</td>\n",
              "      <td>...</td>\n",
              "      <td>...</td>\n",
              "      <td>...</td>\n",
              "      <td>...</td>\n",
              "      <td>...</td>\n",
              "      <td>...</td>\n",
              "      <td>...</td>\n",
              "      <td>...</td>\n",
              "      <td>...</td>\n",
              "      <td>...</td>\n",
              "    </tr>\n",
              "    <tr>\n",
              "      <th>18414</th>\n",
              "      <td>40415</td>\n",
              "      <td>2018</td>\n",
              "      <td>Iraq</td>\n",
              "      <td>Palestine</td>\n",
              "      <td>1</td>\n",
              "      <td>0</td>\n",
              "      <td>True</td>\n",
              "      <td>Friendly</td>\n",
              "      <td>Iraq</td>\n",
              "      <td>2018.0</td>\n",
              "      <td>86.333333</td>\n",
              "      <td>340.760000</td>\n",
              "      <td>Palestine</td>\n",
              "      <td>2018.0</td>\n",
              "      <td>83.166667</td>\n",
              "      <td>351.638333</td>\n",
              "    </tr>\n",
              "    <tr>\n",
              "      <th>18415</th>\n",
              "      <td>40416</td>\n",
              "      <td>2018</td>\n",
              "      <td>United Arab Emirates</td>\n",
              "      <td>Kuwait</td>\n",
              "      <td>0</td>\n",
              "      <td>2</td>\n",
              "      <td>False</td>\n",
              "      <td>Friendly</td>\n",
              "      <td>United Arab Emirates</td>\n",
              "      <td>2018.0</td>\n",
              "      <td>79.000000</td>\n",
              "      <td>304.606667</td>\n",
              "      <td>Kuwait</td>\n",
              "      <td>2018.0</td>\n",
              "      <td>169.333333</td>\n",
              "      <td>107.161667</td>\n",
              "    </tr>\n",
              "    <tr>\n",
              "      <th>18416</th>\n",
              "      <td>40418</td>\n",
              "      <td>2018</td>\n",
              "      <td>Australia</td>\n",
              "      <td>Oman</td>\n",
              "      <td>5</td>\n",
              "      <td>0</td>\n",
              "      <td>True</td>\n",
              "      <td>Friendly</td>\n",
              "      <td>Australia</td>\n",
              "      <td>2018.0</td>\n",
              "      <td>37.500000</td>\n",
              "      <td>544.818333</td>\n",
              "      <td>Oman</td>\n",
              "      <td>2018.0</td>\n",
              "      <td>93.833333</td>\n",
              "      <td>305.090000</td>\n",
              "    </tr>\n",
              "    <tr>\n",
              "      <th>18417</th>\n",
              "      <td>40419</td>\n",
              "      <td>2018</td>\n",
              "      <td>Yemen</td>\n",
              "      <td>Syria</td>\n",
              "      <td>0</td>\n",
              "      <td>1</td>\n",
              "      <td>True</td>\n",
              "      <td>Friendly</td>\n",
              "      <td>Yemen</td>\n",
              "      <td>2018.0</td>\n",
              "      <td>133.166667</td>\n",
              "      <td>147.311667</td>\n",
              "      <td>Syria</td>\n",
              "      <td>2018.0</td>\n",
              "      <td>75.000000</td>\n",
              "      <td>314.398333</td>\n",
              "    </tr>\n",
              "    <tr>\n",
              "      <th>18418</th>\n",
              "      <td>40422</td>\n",
              "      <td>2018</td>\n",
              "      <td>Philippines</td>\n",
              "      <td>Vietnam</td>\n",
              "      <td>2</td>\n",
              "      <td>4</td>\n",
              "      <td>True</td>\n",
              "      <td>Friendly</td>\n",
              "      <td>Philippines</td>\n",
              "      <td>2018.0</td>\n",
              "      <td>117.833333</td>\n",
              "      <td>213.435000</td>\n",
              "      <td>Vietnam</td>\n",
              "      <td>2018.0</td>\n",
              "      <td>107.333333</td>\n",
              "      <td>262.240000</td>\n",
              "    </tr>\n",
              "  </tbody>\n",
              "</table>\n",
              "<p>18419 rows × 16 columns</p>\n",
              "</div>"
            ],
            "text/plain": [
              "       index  match_year  ...   rank_away weighted_points_away\n",
              "0      17374        1993  ...   72.400000             0.000000\n",
              "1      17375        1993  ...  121.000000             0.000000\n",
              "2      17376        1993  ...  109.400000             0.000000\n",
              "3      17377        1993  ...   72.400000             0.000000\n",
              "4      17378        1993  ...   41.600000             0.000000\n",
              "...      ...         ...  ...         ...                  ...\n",
              "18414  40415        2018  ...   83.166667           351.638333\n",
              "18415  40416        2018  ...  169.333333           107.161667\n",
              "18416  40418        2018  ...   93.833333           305.090000\n",
              "18417  40419        2018  ...   75.000000           314.398333\n",
              "18418  40422        2018  ...  107.333333           262.240000\n",
              "\n",
              "[18419 rows x 16 columns]"
            ]
          },
          "metadata": {
            "tags": []
          },
          "execution_count": 18
        }
      ]
    },
    {
      "cell_type": "markdown",
      "metadata": {
        "id": "LxyAuNSZAkVi",
        "colab_type": "text"
      },
      "source": [
        "# Data Model Planning"
      ]
    },
    {
      "cell_type": "markdown",
      "metadata": {
        "id": "twhBeJRNAkVi",
        "colab_type": "text"
      },
      "source": [
        "Generate required features in merged dataset"
      ]
    },
    {
      "cell_type": "code",
      "metadata": {
        "colab_type": "code",
        "id": "IMuw0t3OCGoJ",
        "colab": {}
      },
      "source": [
        "merged_df['rank_difference'] = merged_df['rank_home'] - merged_df['rank_away']\n",
        "merged_df['average_rank'] = (merged_df['rank_home'] + merged_df['rank_away'])/2\n",
        "merged_df['point_difference'] = merged_df['weighted_points_home'] - merged_df['weighted_points_away']\n",
        "merged_df['score_difference'] = merged_df['home_score'] - merged_df['away_score']\n",
        "merged_df['is_won'] = 'tie'\n",
        "merged_df.loc[merged_df['score_difference'] > 0, 'is_won'] = 'yes'#merged_df['score_difference'] > 0 # take draw as lost\n",
        "merged_df.loc[merged_df['score_difference'] < 0, 'is_won'] = 'no'\n",
        "merged_df.loc[merged_df['score_difference'] == 0, 'is_won'] = 'tie'\n",
        "merged_df['is_stake'] = merged_df['tournament'] != 'Friendly'"
      ],
      "execution_count": null,
      "outputs": []
    },
    {
      "cell_type": "markdown",
      "metadata": {
        "id": "b3zFZqhIAkVk",
        "colab_type": "text"
      },
      "source": [
        "Encode tournament feature"
      ]
    },
    {
      "cell_type": "code",
      "metadata": {
        "colab_type": "code",
        "id": "PrMOmn2UMHVG",
        "colab": {}
      },
      "source": [
        "label_encoder = preprocessing.LabelEncoder()\n",
        "label_encoder.fit(merged_df['tournament'])\n",
        "merged_df['tournament']=label_encoder.transform(merged_df['tournament'])"
      ],
      "execution_count": null,
      "outputs": []
    },
    {
      "cell_type": "markdown",
      "metadata": {
        "id": "8cR7eDJUAkVm",
        "colab_type": "text"
      },
      "source": [
        "Encode is won"
      ]
    },
    {
      "cell_type": "code",
      "metadata": {
        "id": "n_u1lJ9VAkVn",
        "colab_type": "code",
        "colab": {}
      },
      "source": [
        "label_encoder_won = preprocessing.LabelEncoder()\n",
        "label_encoder_won.fit(merged_df['is_won'])\n",
        "merged_df['is_won']=label_encoder_won.transform(merged_df['is_won'])"
      ],
      "execution_count": null,
      "outputs": []
    },
    {
      "cell_type": "markdown",
      "metadata": {
        "id": "97ayPcUyAkVo",
        "colab_type": "text"
      },
      "source": [
        "Encode home team"
      ]
    },
    {
      "cell_type": "code",
      "metadata": {
        "id": "ok9kg2BoAkVp",
        "colab_type": "code",
        "colab": {}
      },
      "source": [
        "label_encoder_home = preprocessing.LabelEncoder()\n",
        "label_encoder_home.fit(merged_df['home_team'])\n",
        "merged_df['home_team']=label_encoder_home.transform(merged_df['home_team'])"
      ],
      "execution_count": null,
      "outputs": []
    },
    {
      "cell_type": "markdown",
      "metadata": {
        "id": "Cj-DOjvlAkVs",
        "colab_type": "text"
      },
      "source": [
        "Encode away team"
      ]
    },
    {
      "cell_type": "code",
      "metadata": {
        "id": "bZLCCGA7AkVt",
        "colab_type": "code",
        "colab": {}
      },
      "source": [
        "label_encoder_away = preprocessing.LabelEncoder()\n",
        "label_encoder_away.fit(merged_df['away_team'])\n",
        "merged_df['away_team']=label_encoder_away.transform(merged_df['away_team'])"
      ],
      "execution_count": null,
      "outputs": []
    },
    {
      "cell_type": "markdown",
      "metadata": {
        "colab_type": "text",
        "id": "4IoByZD58kr9"
      },
      "source": [
        "# Feature Selection - Dimensionality Reduction"
      ]
    },
    {
      "cell_type": "markdown",
      "metadata": {
        "id": "nHKtYfGaAkVv",
        "colab_type": "text"
      },
      "source": [
        "Select Required Features"
      ]
    },
    {
      "cell_type": "code",
      "metadata": {
        "colab_type": "code",
        "id": "Mz4-VEWICbfA",
        "colab": {}
      },
      "source": [
        "X_df = merged_df.loc[:,['home_team', 'away_team', 'rank_difference', 'point_difference', 'average_rank', 'tournament', 'is_stake', 'neutral']]\n",
        "y_df = merged_df['is_won']"
      ],
      "execution_count": null,
      "outputs": []
    },
    {
      "cell_type": "markdown",
      "metadata": {
        "id": "nlQ2EUEdAkVx",
        "colab_type": "text"
      },
      "source": [
        "Outlier Detection"
      ]
    },
    {
      "cell_type": "code",
      "metadata": {
        "id": "UO0gEoNOAkVy",
        "colab_type": "code",
        "colab": {
          "base_uri": "https://localhost:8080/",
          "height": 297
        },
        "outputId": "9e5dc629-2d75-467e-d7e5-db76109f4c30"
      },
      "source": [
        "sns.boxplot(x=X_df['rank_difference'])"
      ],
      "execution_count": null,
      "outputs": [
        {
          "output_type": "execute_result",
          "data": {
            "text/plain": [
              "<matplotlib.axes._subplots.AxesSubplot at 0x7f3e92bdaef0>"
            ]
          },
          "metadata": {
            "tags": []
          },
          "execution_count": 25
        },
        {
          "output_type": "display_data",
          "data": {
            "image/png": "[encoded data removed]",
            "text/plain": [
              "<Figure size 432x288 with 1 Axes>"
            ]
          },
          "metadata": {
            "tags": []
          }
        }
      ]
    },
    {
      "cell_type": "code",
      "metadata": {
        "id": "5Xva2MhQAkV0",
        "colab_type": "code",
        "colab": {}
      },
      "source": [
        "median = X_df['rank_difference'].median()\n",
        "std = X_df['rank_difference'].std()\n",
        "outliers = (X_df['rank_difference'] - median).abs() > std\n",
        "X_df.loc[outliers, 'rank_difference'] = median"
      ],
      "execution_count": null,
      "outputs": []
    },
    {
      "cell_type": "code",
      "metadata": {
        "id": "si193q1DAkV2",
        "colab_type": "code",
        "colab": {
          "base_uri": "https://localhost:8080/",
          "height": 297
        },
        "outputId": "fe535d03-bf4f-4b6f-c4a4-5a99d0002566"
      },
      "source": [
        "sns.boxplot(x=X_df['rank_difference'])"
      ],
      "execution_count": null,
      "outputs": [
        {
          "output_type": "execute_result",
          "data": {
            "text/plain": [
              "<matplotlib.axes._subplots.AxesSubplot at 0x7f3e92be2240>"
            ]
          },
          "metadata": {
            "tags": []
          },
          "execution_count": 27
        },
        {
          "output_type": "display_data",
          "data": {
            "image/png": "[encoded data removed]",
            "text/plain": [
              "<Figure size 432x288 with 1 Axes>"
            ]
          },
          "metadata": {
            "tags": []
          }
        }
      ]
    },
    {
      "cell_type": "code",
      "metadata": {
        "id": "bIZu4jYPAkV4",
        "colab_type": "code",
        "colab": {
          "base_uri": "https://localhost:8080/",
          "height": 297
        },
        "outputId": "6f07dbf8-d32b-47a6-94eb-0c03127830d0"
      },
      "source": [
        "sns.boxplot(x=X_df['point_difference'])"
      ],
      "execution_count": null,
      "outputs": [
        {
          "output_type": "execute_result",
          "data": {
            "text/plain": [
              "<matplotlib.axes._subplots.AxesSubplot at 0x7f3e92b56c88>"
            ]
          },
          "metadata": {
            "tags": []
          },
          "execution_count": 28
        },
        {
          "output_type": "display_data",
          "data": {
            "image/png": "[encoded data removed]",
            "text/plain": [
              "<Figure size 432x288 with 1 Axes>"
            ]
          },
          "metadata": {
            "tags": []
          }
        }
      ]
    },
    {
      "cell_type": "code",
      "metadata": {
        "id": "ToQzZ9I1AkV6",
        "colab_type": "code",
        "colab": {}
      },
      "source": [
        "median = X_df['point_difference'].median()\n",
        "std = X_df['point_difference'].std()\n",
        "outliers = (X_df['point_difference'] - median).abs() > std\n",
        "X_df.loc[outliers, 'point_difference'] = median"
      ],
      "execution_count": null,
      "outputs": []
    },
    {
      "cell_type": "code",
      "metadata": {
        "scrolled": true,
        "id": "UA9HwDNqAkV8",
        "colab_type": "code",
        "colab": {
          "base_uri": "https://localhost:8080/",
          "height": 297
        },
        "outputId": "374f8c79-f864-4fb0-a56f-36953b438770"
      },
      "source": [
        "sns.boxplot(x=X_df['point_difference'])"
      ],
      "execution_count": null,
      "outputs": [
        {
          "output_type": "execute_result",
          "data": {
            "text/plain": [
              "<matplotlib.axes._subplots.AxesSubplot at 0x7f3e92b62588>"
            ]
          },
          "metadata": {
            "tags": []
          },
          "execution_count": 30
        },
        {
          "output_type": "display_data",
          "data": {
            "image/png": "[encoded data removed]",
            "text/plain": [
              "<Figure size 432x288 with 1 Axes>"
            ]
          },
          "metadata": {
            "tags": []
          }
        }
      ]
    },
    {
      "cell_type": "markdown",
      "metadata": {
        "id": "WMgwB9j4AkV-",
        "colab_type": "text"
      },
      "source": [
        "Generate Heat Map of features"
      ]
    },
    {
      "cell_type": "code",
      "metadata": {
        "id": "i4tTxJoHAkV_",
        "colab_type": "code",
        "colab": {
          "base_uri": "https://localhost:8080/",
          "height": 357
        },
        "outputId": "3c522789-5965-4589-c744-ef6194054500"
      },
      "source": [
        "sns.heatmap(X_df.corr(), cmap=\"Blues\")"
      ],
      "execution_count": null,
      "outputs": [
        {
          "output_type": "execute_result",
          "data": {
            "text/plain": [
              "<matplotlib.axes._subplots.AxesSubplot at 0x7f3e9128a160>"
            ]
          },
          "metadata": {
            "tags": []
          },
          "execution_count": 31
        },
        {
          "output_type": "display_data",
          "data": {
            "image/png": "[encoded data removed]",
            "text/plain": [
              "<Figure size 432x288 with 2 Axes>"
            ]
          },
          "metadata": {
            "tags": []
          }
        }
      ]
    },
    {
      "cell_type": "markdown",
      "metadata": {
        "id": "m5OVs7gJAkWA",
        "colab_type": "text"
      },
      "source": [
        "Split dataset for training and testing"
      ]
    },
    {
      "cell_type": "code",
      "metadata": {
        "id": "TJzntyw_AkWB",
        "colab_type": "code",
        "colab": {}
      },
      "source": [
        "X_train, X_test, y_train, y_test = train_test_split(X_df, y_df, test_size=0.2, random_state=42)"
      ],
      "execution_count": null,
      "outputs": []
    },
    {
      "cell_type": "markdown",
      "metadata": {
        "colab_type": "text",
        "id": "TQ7Cj69N8myL"
      },
      "source": [
        "# Data Model Building"
      ]
    },
    {
      "cell_type": "markdown",
      "metadata": {
        "id": "kv4ELZzuAkWD",
        "colab_type": "text"
      },
      "source": [
        "Logistic Regression Classifier Model"
      ]
    },
    {
      "cell_type": "markdown",
      "metadata": {
        "id": "mdNZ_FJhAkWE",
        "colab_type": "text"
      },
      "source": [
        "Create model (Design)"
      ]
    },
    {
      "cell_type": "code",
      "metadata": {
        "colab_type": "code",
        "id": "N9xv3ZbIo6Wq",
        "colab": {}
      },
      "source": [
        "logistic_regression = linear_model.LogisticRegression(C=1e-5)\n",
        "features = PolynomialFeatures(degree=2)\n",
        "logistic_regression_model = Pipeline([('polynomial_features', features),('logistic_regression', logistic_regression)])"
      ],
      "execution_count": null,
      "outputs": []
    },
    {
      "cell_type": "markdown",
      "metadata": {
        "id": "DejMqn7bAkWG",
        "colab_type": "text"
      },
      "source": [
        "Train the model"
      ]
    },
    {
      "cell_type": "code",
      "metadata": {
        "colab_type": "code",
        "id": "N4pzCzqFI7tD",
        "colab": {
          "base_uri": "https://localhost:8080/",
          "height": 370
        },
        "outputId": "848ac892-abbd-498b-b145-fb60b44f61e2"
      },
      "source": [
        "logistic_regression_model.fit(X_train, y_train)"
      ],
      "execution_count": null,
      "outputs": [
        {
          "output_type": "stream",
          "text": [
            "/usr/local/lib/python3.6/dist-packages/sklearn/linear_model/_logistic.py:940: ConvergenceWarning: lbfgs failed to converge (status=1):\n",
            "STOP: TOTAL NO. of ITERATIONS REACHED LIMIT.\n",
            "\n",
            "Increase the number of iterations (max_iter) or scale the data as shown in:\n",
            "    https://scikit-learn.org/stable/modules/preprocessing.html\n",
            "Please also refer to the documentation for alternative solver options:\n",
            "    https://scikit-learn.org/stable/modules/linear_model.html#logistic-regression\n",
            "  extra_warning_msg=_LOGISTIC_SOLVER_CONVERGENCE_MSG)\n"
          ],
          "name": "stderr"
        },
        {
          "output_type": "execute_result",
          "data": {
            "text/plain": [
              "Pipeline(memory=None,\n",
              "         steps=[('polynomial_features',\n",
              "                 PolynomialFeatures(degree=2, include_bias=True,\n",
              "                                    interaction_only=False, order='C')),\n",
              "                ('logistic_regression',\n",
              "                 LogisticRegression(C=1e-05, class_weight=None, dual=False,\n",
              "                                    fit_intercept=True, intercept_scaling=1,\n",
              "                                    l1_ratio=None, max_iter=100,\n",
              "                                    multi_class='auto', n_jobs=None,\n",
              "                                    penalty='l2', random_state=None,\n",
              "                                    solver='lbfgs', tol=0.0001, verbose=0,\n",
              "                                    warm_start=False))],\n",
              "         verbose=False)"
            ]
          },
          "metadata": {
            "tags": []
          },
          "execution_count": 34
        }
      ]
    },
    {
      "cell_type": "markdown",
      "metadata": {
        "id": "judqF-1BAkWI",
        "colab_type": "text"
      },
      "source": [
        "Test the model"
      ]
    },
    {
      "cell_type": "code",
      "metadata": {
        "colab_type": "code",
        "id": "bsJC2BzMJB3l",
        "colab": {
          "base_uri": "https://localhost:8080/",
          "height": 34
        },
        "outputId": "d4dead24-9e27-4d3b-8fea-9ef4cb651c28"
      },
      "source": [
        "logistic_regression_model.score(X_test, y_test)"
      ],
      "execution_count": null,
      "outputs": [
        {
          "output_type": "execute_result",
          "data": {
            "text/plain": [
              "0.5162866449511401"
            ]
          },
          "metadata": {
            "tags": []
          },
          "execution_count": 35
        }
      ]
    },
    {
      "cell_type": "markdown",
      "metadata": {
        "id": "QYayuBtlAkWL",
        "colab_type": "text"
      },
      "source": [
        "Save the model for further use"
      ]
    },
    {
      "cell_type": "code",
      "metadata": {
        "id": "Vofa-BdVAkWM",
        "colab_type": "code",
        "colab": {}
      },
      "source": [
        "pickle.dump(logistic_regression_model, open(\"logistic_regression_model\", 'wb'))"
      ],
      "execution_count": null,
      "outputs": []
    },
    {
      "cell_type": "markdown",
      "metadata": {
        "id": "WJGx6NVTAkWO",
        "colab_type": "text"
      },
      "source": [
        "Naive Bayes Model"
      ]
    },
    {
      "cell_type": "markdown",
      "metadata": {
        "id": "8gaLoowHAkWO",
        "colab_type": "text"
      },
      "source": [
        "Create model"
      ]
    },
    {
      "cell_type": "code",
      "metadata": {
        "colab_type": "code",
        "id": "D4LN15mQJvf9",
        "colab": {}
      },
      "source": [
        "naive_bayes_model = GaussianNB()"
      ],
      "execution_count": null,
      "outputs": []
    },
    {
      "cell_type": "markdown",
      "metadata": {
        "id": "ZJ_XHerFAkWS",
        "colab_type": "text"
      },
      "source": [
        "Train the model"
      ]
    },
    {
      "cell_type": "code",
      "metadata": {
        "id": "DsAHOi8jAkWT",
        "colab_type": "code",
        "colab": {},
        "outputId": "3dad47ff-09ec-4b12-a6ad-7ff83b176dd5"
      },
      "source": [
        "naive_bayes_model.fit(X_train, y_train)"
      ],
      "execution_count": null,
      "outputs": [
        {
          "output_type": "execute_result",
          "data": {
            "text/plain": [
              "GaussianNB(priors=None, var_smoothing=1e-09)"
            ]
          },
          "metadata": {
            "tags": []
          },
          "execution_count": 1052
        }
      ]
    },
    {
      "cell_type": "markdown",
      "metadata": {
        "id": "6IIpKUPAAkWU",
        "colab_type": "text"
      },
      "source": [
        "Test the model"
      ]
    },
    {
      "cell_type": "code",
      "metadata": {
        "id": "MLzrNzY_AkWV",
        "colab_type": "code",
        "colab": {},
        "outputId": "a40f6439-e3c4-4436-f6af-49d4cc756ec1"
      },
      "source": [
        "y_pred = naive_bayes_model.predict(X_test)\n",
        "print(\"Accuracy:\",metrics.accuracy_score(y_test, y_pred))"
      ],
      "execution_count": null,
      "outputs": [
        {
          "output_type": "stream",
          "text": [
            "Accuracy: 0.5200868621064061\n"
          ],
          "name": "stdout"
        }
      ]
    },
    {
      "cell_type": "markdown",
      "metadata": {
        "id": "T_rRseQUAkWZ",
        "colab_type": "text"
      },
      "source": [
        "Save the model for further use"
      ]
    },
    {
      "cell_type": "code",
      "metadata": {
        "id": "ttZxYy7LAkWZ",
        "colab_type": "code",
        "colab": {}
      },
      "source": [
        "pickle.dump(naive_bayes_model, open(\"naive_bayes_model\", 'wb'))"
      ],
      "execution_count": null,
      "outputs": []
    },
    {
      "cell_type": "markdown",
      "metadata": {
        "id": "0lAK40JVAkWc",
        "colab_type": "text"
      },
      "source": [
        "KNN Model"
      ]
    },
    {
      "cell_type": "markdown",
      "metadata": {
        "id": "kO3DYZ7VAkWd",
        "colab_type": "text"
      },
      "source": [
        "Create model"
      ]
    },
    {
      "cell_type": "code",
      "metadata": {
        "colab_type": "code",
        "id": "coSnVid0AkWe",
        "colab": {}
      },
      "source": [
        "knn_model = KNeighborsClassifier(n_neighbors=3)"
      ],
      "execution_count": null,
      "outputs": []
    },
    {
      "cell_type": "markdown",
      "metadata": {
        "id": "vOG0eobpAkWg",
        "colab_type": "text"
      },
      "source": [
        "Train the model"
      ]
    },
    {
      "cell_type": "code",
      "metadata": {
        "id": "MaPfctSfAkWg",
        "colab_type": "code",
        "colab": {},
        "outputId": "e19f2e5f-ff8f-470c-8ec1-183f2c6a39a0"
      },
      "source": [
        "knn_model.fit(X_train, y_train)"
      ],
      "execution_count": null,
      "outputs": [
        {
          "output_type": "execute_result",
          "data": {
            "text/plain": [
              "KNeighborsClassifier(algorithm='auto', leaf_size=30, metric='minkowski',\n",
              "                     metric_params=None, n_jobs=None, n_neighbors=3, p=2,\n",
              "                     weights='uniform')"
            ]
          },
          "metadata": {
            "tags": []
          },
          "execution_count": 1056
        }
      ]
    },
    {
      "cell_type": "markdown",
      "metadata": {
        "id": "5vIXnR9zAkWi",
        "colab_type": "text"
      },
      "source": [
        "Test the model"
      ]
    },
    {
      "cell_type": "code",
      "metadata": {
        "id": "a_OGfNSFAkWi",
        "colab_type": "code",
        "colab": {},
        "outputId": "eb7e03e8-d294-44ae-bc1c-a0a66418cd78"
      },
      "source": [
        "y_pred = knn_model.predict(X_test)\n",
        "print(\"Accuracy:\",metrics.accuracy_score(y_test, y_pred))"
      ],
      "execution_count": null,
      "outputs": [
        {
          "output_type": "stream",
          "text": [
            "Accuracy: 0.46226927252985883\n"
          ],
          "name": "stdout"
        }
      ]
    },
    {
      "cell_type": "markdown",
      "metadata": {
        "id": "zoqI7YUaAkWl",
        "colab_type": "text"
      },
      "source": [
        "Save the model for further use"
      ]
    },
    {
      "cell_type": "code",
      "metadata": {
        "id": "AUu7XPhKAkWm",
        "colab_type": "code",
        "colab": {}
      },
      "source": [
        "pickle.dump(knn_model, open(\"knn_model\", 'wb'))"
      ],
      "execution_count": null,
      "outputs": []
    },
    {
      "cell_type": "markdown",
      "metadata": {
        "id": "KY413CPvAkWn",
        "colab_type": "text"
      },
      "source": [
        "SVM model"
      ]
    },
    {
      "cell_type": "markdown",
      "metadata": {
        "id": "kpg4W1NGAkWo",
        "colab_type": "text"
      },
      "source": [
        "Create model"
      ]
    },
    {
      "cell_type": "code",
      "metadata": {
        "id": "cianvRzuAkWo",
        "colab_type": "code",
        "colab": {}
      },
      "source": [
        "svm_model = svm.SVC(kernel='poly', probability=True)"
      ],
      "execution_count": null,
      "outputs": []
    },
    {
      "cell_type": "markdown",
      "metadata": {
        "id": "EcmqiHouAkWt",
        "colab_type": "text"
      },
      "source": [
        "Train the model"
      ]
    },
    {
      "cell_type": "code",
      "metadata": {
        "id": "KCQRVj5WAkWt",
        "colab_type": "code",
        "colab": {},
        "outputId": "2e3a4190-6aab-4c3b-9c3c-aea39966d50b"
      },
      "source": [
        "svm_model.fit(X_train, y_train)"
      ],
      "execution_count": null,
      "outputs": [
        {
          "output_type": "execute_result",
          "data": {
            "text/plain": [
              "SVC(C=1.0, break_ties=False, cache_size=200, class_weight=None, coef0=0.0,\n",
              "    decision_function_shape='ovr', degree=3, gamma='scale', kernel='poly',\n",
              "    max_iter=-1, probability=True, random_state=None, shrinking=True, tol=0.001,\n",
              "    verbose=False)"
            ]
          },
          "metadata": {
            "tags": []
          },
          "execution_count": 1060
        }
      ]
    },
    {
      "cell_type": "markdown",
      "metadata": {
        "id": "O4SYQq46AkWv",
        "colab_type": "text"
      },
      "source": [
        "Test the model"
      ]
    },
    {
      "cell_type": "code",
      "metadata": {
        "id": "fmh4wPbsAkWw",
        "colab_type": "code",
        "colab": {},
        "outputId": "efc560ef-3191-4488-97a1-e601f95e5247"
      },
      "source": [
        "y_pred = svm_model.predict(X_test)\n",
        "print(\"Accuracy:\",metrics.accuracy_score(y_test, y_pred))"
      ],
      "execution_count": null,
      "outputs": [
        {
          "output_type": "stream",
          "text": [
            "Accuracy: 0.5190010857763301\n"
          ],
          "name": "stdout"
        }
      ]
    },
    {
      "cell_type": "markdown",
      "metadata": {
        "id": "SfRaz5RzAkW1",
        "colab_type": "text"
      },
      "source": [
        "Save the model"
      ]
    },
    {
      "cell_type": "code",
      "metadata": {
        "id": "IqEK4Tg7AkW1",
        "colab_type": "code",
        "colab": {}
      },
      "source": [
        "pickle.dump(svm_model, open(\"svm_model\", 'wb'))"
      ],
      "execution_count": null,
      "outputs": []
    },
    {
      "cell_type": "markdown",
      "metadata": {
        "id": "AOIERn-xAkW3",
        "colab_type": "text"
      },
      "source": [
        "Neural Network Model"
      ]
    },
    {
      "cell_type": "markdown",
      "metadata": {
        "id": "BAFitnk-AkW3",
        "colab_type": "text"
      },
      "source": [
        "Encode is won to one hot"
      ]
    },
    {
      "cell_type": "code",
      "metadata": {
        "id": "Oi9_WOdyAkW4",
        "colab_type": "code",
        "colab": {}
      },
      "source": [
        "y_train_nn = np.expand_dims(y_train, axis=1)"
      ],
      "execution_count": null,
      "outputs": []
    },
    {
      "cell_type": "code",
      "metadata": {
        "id": "q_9mP5KIAkW5",
        "colab_type": "code",
        "colab": {}
      },
      "source": [
        "one_hot_encoder = preprocessing.OneHotEncoder()\n",
        "one_hot_encoder.fit_transform(y_train_nn)\n",
        "y_train_nn = one_hot_encoder.transform(y_train_nn).toarray()"
      ],
      "execution_count": null,
      "outputs": []
    },
    {
      "cell_type": "markdown",
      "metadata": {
        "id": "Ax0-W-rjAkW8",
        "colab_type": "text"
      },
      "source": [
        "Define model"
      ]
    },
    {
      "cell_type": "code",
      "metadata": {
        "id": "DttFhdSJAkW8",
        "colab_type": "code",
        "colab": {}
      },
      "source": [
        "nn_model = Sequential()\n",
        "nn_model.add(Dense(32, input_shape=(X_train.shape[-1],), activation='sigmoid'))\n",
        "nn_model.add(Dense(32, activation='relu'))\n",
        "nn_model.add(Dense(3, activation='relu'))"
      ],
      "execution_count": null,
      "outputs": []
    },
    {
      "cell_type": "markdown",
      "metadata": {
        "id": "A_s5QnwFAkXA",
        "colab_type": "text"
      },
      "source": [
        "Compile Model"
      ]
    },
    {
      "cell_type": "code",
      "metadata": {
        "id": "qGvG6EDRAkXB",
        "colab_type": "code",
        "colab": {}
      },
      "source": [
        "nn_model.compile(loss='categorical_crossentropy', optimizer='adagrad', metrics=['accuracy'])"
      ],
      "execution_count": null,
      "outputs": []
    },
    {
      "cell_type": "markdown",
      "metadata": {
        "id": "zN9vUZmJAkXE",
        "colab_type": "text"
      },
      "source": [
        "Train model"
      ]
    },
    {
      "cell_type": "code",
      "metadata": {
        "id": "tA_Cr8m5AkXF",
        "colab_type": "code",
        "colab": {},
        "outputId": "228573fd-01ef-429e-c082-58924ff36eda"
      },
      "source": [
        "nn_model.fit(X_train, y_train_nn, epochs=20)"
      ],
      "execution_count": null,
      "outputs": [
        {
          "output_type": "stream",
          "text": [
            "Epoch 1/20\n",
            "14735/14735 [==============================] - 0s 30us/step - loss: 1.0896 - accuracy: 0.4746\n",
            "Epoch 2/20\n",
            "14735/14735 [==============================] - 0s 26us/step - loss: 1.0233 - accuracy: 0.4916\n",
            "Epoch 3/20\n",
            "14735/14735 [==============================] - 0s 26us/step - loss: 1.0147 - accuracy: 0.4976\n",
            "Epoch 4/20\n",
            "14735/14735 [==============================] - 0s 26us/step - loss: 1.0115 - accuracy: 0.5000\n",
            "Epoch 5/20\n",
            "14735/14735 [==============================] - 0s 26us/step - loss: 1.0075 - accuracy: 0.5042\n",
            "Epoch 6/20\n",
            "14735/14735 [==============================] - 0s 27us/step - loss: 1.0052 - accuracy: 0.5030\n",
            "Epoch 7/20\n",
            "14735/14735 [==============================] - 0s 26us/step - loss: 1.0034 - accuracy: 0.5069\n",
            "Epoch 8/20\n",
            "14735/14735 [==============================] - 0s 26us/step - loss: 1.0021 - accuracy: 0.5061\n",
            "Epoch 9/20\n",
            "14735/14735 [==============================] - 0s 27us/step - loss: 1.0011 - accuracy: 0.5078\n",
            "Epoch 10/20\n",
            "14735/14735 [==============================] - 0s 27us/step - loss: 1.0000 - accuracy: 0.5100\n",
            "Epoch 11/20\n",
            "14735/14735 [==============================] - 0s 27us/step - loss: 0.9989 - accuracy: 0.5095\n",
            "Epoch 12/20\n",
            "14735/14735 [==============================] - 0s 27us/step - loss: 0.9986 - accuracy: 0.5108\n",
            "Epoch 13/20\n",
            "14735/14735 [==============================] - 0s 27us/step - loss: 0.9980 - accuracy: 0.5114\n",
            "Epoch 14/20\n",
            "14735/14735 [==============================] - 0s 27us/step - loss: 0.9974 - accuracy: 0.5125\n",
            "Epoch 15/20\n",
            "14735/14735 [==============================] - 0s 27us/step - loss: 0.9969 - accuracy: 0.5122\n",
            "Epoch 16/20\n",
            "14735/14735 [==============================] - 0s 27us/step - loss: 0.9965 - accuracy: 0.5108\n",
            "Epoch 17/20\n",
            "14735/14735 [==============================] - 0s 27us/step - loss: 0.9962 - accuracy: 0.5115\n",
            "Epoch 18/20\n",
            "14735/14735 [==============================] - 0s 26us/step - loss: 0.9956 - accuracy: 0.5122\n",
            "Epoch 19/20\n",
            "14735/14735 [==============================] - 0s 28us/step - loss: 0.9955 - accuracy: 0.5107\n",
            "Epoch 20/20\n",
            "14735/14735 [==============================] - 0s 26us/step - loss: 0.9949 - accuracy: 0.5125\n"
          ],
          "name": "stdout"
        },
        {
          "output_type": "execute_result",
          "data": {
            "text/plain": [
              "<keras.callbacks.callbacks.History at 0x7f5de0464bd0>"
            ]
          },
          "metadata": {
            "tags": []
          },
          "execution_count": 1067
        }
      ]
    },
    {
      "cell_type": "markdown",
      "metadata": {
        "id": "FZ5iEkTjAkXH",
        "colab_type": "text"
      },
      "source": [
        "Save neural network model"
      ]
    },
    {
      "cell_type": "code",
      "metadata": {
        "id": "uUJY4kdOAkXH",
        "colab_type": "code",
        "colab": {}
      },
      "source": [
        "nn_model.save_weights(\"nn_model.h5\")"
      ],
      "execution_count": null,
      "outputs": []
    },
    {
      "cell_type": "markdown",
      "metadata": {
        "colab_type": "text",
        "id": "h3Fehd-T8o38"
      },
      "source": [
        "# Prediction / Results"
      ]
    },
    {
      "cell_type": "markdown",
      "metadata": {
        "id": "ixYjv0g1AkXJ",
        "colab_type": "text"
      },
      "source": [
        "Results of logistic regression model"
      ]
    },
    {
      "cell_type": "markdown",
      "metadata": {
        "id": "iU1g9r7jAkXJ",
        "colab_type": "text"
      },
      "source": [
        "Load model"
      ]
    },
    {
      "cell_type": "code",
      "metadata": {
        "id": "dOp1t2QYAkXK",
        "colab_type": "code",
        "colab": {}
      },
      "source": [
        "loaded_model = pickle.load(open(\"logistic_regression_model\", 'rb'))"
      ],
      "execution_count": null,
      "outputs": []
    },
    {
      "cell_type": "markdown",
      "metadata": {
        "id": "DXog15F1AkXL",
        "colab_type": "text"
      },
      "source": [
        "Predict Accuracy"
      ]
    },
    {
      "cell_type": "code",
      "metadata": {
        "id": "ghues2rmAkXL",
        "colab_type": "code",
        "colab": {},
        "outputId": "351f5b6d-9a1b-4092-ba80-752ddf6f6cb3"
      },
      "source": [
        "logistic_regression_model.score(X_test, y_test)"
      ],
      "execution_count": null,
      "outputs": [
        {
          "output_type": "execute_result",
          "data": {
            "text/plain": [
              "0.5162866449511401"
            ]
          },
          "metadata": {
            "tags": []
          },
          "execution_count": 1070
        }
      ]
    },
    {
      "cell_type": "markdown",
      "metadata": {
        "id": "cOwaHS4KAkXM",
        "colab_type": "text"
      },
      "source": [
        "Results of naive bayes model"
      ]
    },
    {
      "cell_type": "markdown",
      "metadata": {
        "id": "04hY4ObnAkXN",
        "colab_type": "text"
      },
      "source": [
        "Load model"
      ]
    },
    {
      "cell_type": "code",
      "metadata": {
        "id": "VcMlabZiAkXN",
        "colab_type": "code",
        "colab": {}
      },
      "source": [
        "loaded_model = pickle.load(open(\"naive_bayes_model\", 'rb'))"
      ],
      "execution_count": null,
      "outputs": []
    },
    {
      "cell_type": "markdown",
      "metadata": {
        "id": "q-Px40jcAkXP",
        "colab_type": "text"
      },
      "source": [
        "Predict Accuracy"
      ]
    },
    {
      "cell_type": "code",
      "metadata": {
        "id": "60j95za0AkXP",
        "colab_type": "code",
        "colab": {},
        "outputId": "d314f106-759e-4502-9254-01f6dfdfd331"
      },
      "source": [
        "y_pred = naive_bayes_model.predict(X_test)\n",
        "print(\"Accuracy:\",metrics.accuracy_score(y_test, y_pred))"
      ],
      "execution_count": null,
      "outputs": [
        {
          "output_type": "stream",
          "text": [
            "Accuracy: 0.5200868621064061\n"
          ],
          "name": "stdout"
        }
      ]
    },
    {
      "cell_type": "markdown",
      "metadata": {
        "id": "xb_wnslhAkXR",
        "colab_type": "text"
      },
      "source": [
        "Results of knn model"
      ]
    },
    {
      "cell_type": "markdown",
      "metadata": {
        "id": "zbaURh04AkXR",
        "colab_type": "text"
      },
      "source": [
        "Load model"
      ]
    },
    {
      "cell_type": "code",
      "metadata": {
        "id": "U09FB17vAkXR",
        "colab_type": "code",
        "colab": {}
      },
      "source": [
        "loaded_model = pickle.load(open(\"knn_model\", 'rb'))"
      ],
      "execution_count": null,
      "outputs": []
    },
    {
      "cell_type": "markdown",
      "metadata": {
        "id": "bHt0oWK_AkXT",
        "colab_type": "text"
      },
      "source": [
        "Predict Accuracy"
      ]
    },
    {
      "cell_type": "code",
      "metadata": {
        "id": "Qg1xxypMAkXT",
        "colab_type": "code",
        "colab": {},
        "outputId": "898a9976-a0e8-43c2-a8bb-8142808f5c44"
      },
      "source": [
        "y_pred = knn_model.predict(X_test)\n",
        "print(\"Accuracy:\",metrics.accuracy_score(y_test, y_pred))"
      ],
      "execution_count": null,
      "outputs": [
        {
          "output_type": "stream",
          "text": [
            "Accuracy: 0.46226927252985883\n"
          ],
          "name": "stdout"
        }
      ]
    },
    {
      "cell_type": "markdown",
      "metadata": {
        "id": "d1D_bkVbAkXW",
        "colab_type": "text"
      },
      "source": [
        "Results of svm model"
      ]
    },
    {
      "cell_type": "markdown",
      "metadata": {
        "id": "KMgry_9xAkXW",
        "colab_type": "text"
      },
      "source": [
        "Load model"
      ]
    },
    {
      "cell_type": "code",
      "metadata": {
        "id": "8H4LFNUMAkXW",
        "colab_type": "code",
        "colab": {}
      },
      "source": [
        "loaded_model = pickle.load(open(\"svm_model\", 'rb'))"
      ],
      "execution_count": null,
      "outputs": []
    },
    {
      "cell_type": "markdown",
      "metadata": {
        "id": "vFt51ZscAkXY",
        "colab_type": "text"
      },
      "source": [
        "Predict Accuracy"
      ]
    },
    {
      "cell_type": "code",
      "metadata": {
        "id": "0bxLjxWaAkXY",
        "colab_type": "code",
        "colab": {},
        "outputId": "2bca757e-0f50-42a0-b574-7d6ba6e5457c"
      },
      "source": [
        "y_pred = svm_model.predict(X_test)\n",
        "print(\"Accuracy:\",metrics.accuracy_score(y_test, y_pred))"
      ],
      "execution_count": null,
      "outputs": [
        {
          "output_type": "stream",
          "text": [
            "Accuracy: 0.5190010857763301\n"
          ],
          "name": "stdout"
        }
      ]
    },
    {
      "cell_type": "markdown",
      "metadata": {
        "id": "tKchiE_FAkXa",
        "colab_type": "text"
      },
      "source": [
        "Results of neural network model"
      ]
    },
    {
      "cell_type": "markdown",
      "metadata": {
        "id": "zmAIzGzZAkXa",
        "colab_type": "text"
      },
      "source": [
        "Load model"
      ]
    },
    {
      "cell_type": "code",
      "metadata": {
        "id": "AK3bKCuRAkXa",
        "colab_type": "code",
        "colab": {}
      },
      "source": [
        "nn_model.load_weights('nn_model.h5')"
      ],
      "execution_count": null,
      "outputs": []
    },
    {
      "cell_type": "markdown",
      "metadata": {
        "id": "CI8x9WcdAkXc",
        "colab_type": "text"
      },
      "source": [
        "Predict Accuracy"
      ]
    },
    {
      "cell_type": "code",
      "metadata": {
        "id": "fys7Ogc8AkXc",
        "colab_type": "code",
        "colab": {},
        "outputId": "0f4bf16e-172f-47a9-f331-3836f18d4de5"
      },
      "source": [
        "predictions = model.predict_classes(X_test)\n",
        "print(\"Accuracy:\",metrics.accuracy_score(y_test, predictions))"
      ],
      "execution_count": null,
      "outputs": [
        {
          "output_type": "stream",
          "text": [
            "Accuracy: 0.5138436482084691\n"
          ],
          "name": "stdout"
        }
      ]
    },
    {
      "cell_type": "markdown",
      "metadata": {
        "id": "PUltnexgAkXe",
        "colab_type": "text"
      },
      "source": [
        "Function to get prediction"
      ]
    },
    {
      "cell_type": "code",
      "metadata": {
        "id": "GcxZNWtxAkXe",
        "colab_type": "code",
        "colab": {}
      },
      "source": [
        "def predict_match(home_team, away_team, home_rank, away_rank, home_points, away_points, tournament, is_stake, neutral):\n",
        "    rank_difference = home_rank - away_rank\n",
        "    point_difference = home_points - away_points\n",
        "    average_rank = (home_rank + away_rank) / 2\n",
        "    data = {'home_team':label_encoder_home.transform([home_team]), 'away_team':label_encoder_away.transform([away_team]), 'rank_difference':rank_difference, 'point_difference':point_difference, 'average_rank':average_rank, 'tournament':label_encoder.transform([tournament]), 'is_stake':is_stake, 'neutral':neutral}\n",
        "    data_frame = pd.DataFrame(data, columns=['home_team', 'away_team', 'rank_difference', 'point_difference', 'average_rank', 'tournament', 'is_stake', 'neutral'])\n",
        "    if(naive_bayes_model.predict(data_frame)[0] == 1):\n",
        "        print(home_team + \" will win\")\n",
        "    elif(naive_bayes_model.predict(data_frame)[0] == 2):\n",
        "        print(away_team + \" will win\")\n",
        "    else:\n",
        "        print(\"Match will end in a tie\")"
      ],
      "execution_count": null,
      "outputs": []
    },
    {
      "cell_type": "markdown",
      "metadata": {
        "id": "kjB7ANp3AkXi",
        "colab_type": "text"
      },
      "source": [
        "Call function to predict between Germany and Switzerland"
      ]
    },
    {
      "cell_type": "code",
      "metadata": {
        "id": "LwKYn_sXAkXi",
        "colab_type": "code",
        "colab": {},
        "outputId": "e20a9de1-a09f-4ff3-a549-131fd5b663c6"
      },
      "source": [
        "predict_match('Germany', 'Switzerland', 1, 10, 900, 700, 'UEFA Euro', True, False)"
      ],
      "execution_count": null,
      "outputs": [
        {
          "output_type": "stream",
          "text": [
            "Switzerland will win\n"
          ],
          "name": "stdout"
        }
      ]
    },
    {
      "cell_type": "markdown",
      "metadata": {
        "colab_type": "text",
        "id": "5P7Yf8dM8s5w"
      },
      "source": [
        "# Visualization"
      ]
    },
    {
      "cell_type": "markdown",
      "metadata": {
        "id": "eQG1ajz2AkXk",
        "colab_type": "text"
      },
      "source": [
        "Confusion Matrix for logistic regression model"
      ]
    },
    {
      "cell_type": "code",
      "metadata": {
        "id": "nzR_BzB_AkXl",
        "colab_type": "code",
        "colab": {},
        "outputId": "a8161c34-fb46-4b10-970d-353eb471239c"
      },
      "source": [
        "cm = confusion_matrix(y_test, logistic_regression_model.predict(X_test))\n",
        "sns.heatmap(cm, cmap=\"Blues\")"
      ],
      "execution_count": null,
      "outputs": [
        {
          "output_type": "execute_result",
          "data": {
            "text/plain": [
              "<matplotlib.axes._subplots.AxesSubplot at 0x7f5de044e490>"
            ]
          },
          "metadata": {
            "tags": []
          },
          "execution_count": 1079
        },
        {
          "output_type": "display_data",
          "data": {
            "image/png": "[encoded data removed]",
            "text/plain": [
              "<Figure size 432x288 with 2 Axes>"
            ]
          },
          "metadata": {
            "tags": [],
            "needs_background": "light"
          }
        }
      ]
    },
    {
      "cell_type": "markdown",
      "metadata": {
        "id": "Q1pEmaGwAkXm",
        "colab_type": "text"
      },
      "source": [
        "Confusion Matrix for naive bayes model"
      ]
    },
    {
      "cell_type": "code",
      "metadata": {
        "id": "6Kqa9nABAkXn",
        "colab_type": "code",
        "colab": {},
        "outputId": "9f27cec5-60f3-4825-a509-11022fcc010e"
      },
      "source": [
        "cm = confusion_matrix(y_test, naive_bayes_model.predict(X_test))\n",
        "sns.heatmap(cm, cmap=\"Blues\")"
      ],
      "execution_count": null,
      "outputs": [
        {
          "output_type": "execute_result",
          "data": {
            "text/plain": [
              "<matplotlib.axes._subplots.AxesSubplot at 0x7f5de05da1d0>"
            ]
          },
          "metadata": {
            "tags": []
          },
          "execution_count": 1080
        },
        {
          "output_type": "display_data",
          "data": {
            "image/png": "[encoded data removed]",
            "text/plain": [
              "<Figure size 432x288 with 2 Axes>"
            ]
          },
          "metadata": {
            "tags": [],
            "needs_background": "light"
          }
        }
      ]
    },
    {
      "cell_type": "markdown",
      "metadata": {
        "id": "aQxEMPQsAkXq",
        "colab_type": "text"
      },
      "source": [
        "Confusion Matrix for knn model"
      ]
    },
    {
      "cell_type": "code",
      "metadata": {
        "id": "xUiu0QntAkXq",
        "colab_type": "code",
        "colab": {},
        "outputId": "6b5a88b4-949e-4b20-dbff-9f5d003763f3"
      },
      "source": [
        "cm = confusion_matrix(y_test, knn_model.predict(X_test))\n",
        "sns.heatmap(cm, cmap=\"Blues\")"
      ],
      "execution_count": null,
      "outputs": [
        {
          "output_type": "execute_result",
          "data": {
            "text/plain": [
              "<matplotlib.axes._subplots.AxesSubplot at 0x7f5de070aa90>"
            ]
          },
          "metadata": {
            "tags": []
          },
          "execution_count": 1081
        },
        {
          "output_type": "display_data",
          "data": {
            "image/png": "[encoded data removed]",
            "text/plain": [
              "<Figure size 432x288 with 2 Axes>"
            ]
          },
          "metadata": {
            "tags": [],
            "needs_background": "light"
          }
        }
      ]
    },
    {
      "cell_type": "markdown",
      "metadata": {
        "id": "LG2s-LKJAkXr",
        "colab_type": "text"
      },
      "source": [
        "Confusion Matrix for svm model"
      ]
    },
    {
      "cell_type": "code",
      "metadata": {
        "id": "kKcFXADmAkXs",
        "colab_type": "code",
        "colab": {},
        "outputId": "50542e61-2ff4-4a66-ff58-6a5cbb2a6cd7"
      },
      "source": [
        "cm = confusion_matrix(y_test, svm_model.predict(X_test))\n",
        "sns.heatmap(cm, cmap=\"Blues\")"
      ],
      "execution_count": null,
      "outputs": [
        {
          "output_type": "execute_result",
          "data": {
            "text/plain": [
              "<matplotlib.axes._subplots.AxesSubplot at 0x7f5de03ca450>"
            ]
          },
          "metadata": {
            "tags": []
          },
          "execution_count": 1082
        },
        {
          "output_type": "display_data",
          "data": {
            "image/png": "[encoded data removed]",
            "text/plain": [
              "<Figure size 432x288 with 2 Axes>"
            ]
          },
          "metadata": {
            "tags": [],
            "needs_background": "light"
          }
        }
      ]
    },
    {
      "cell_type": "markdown",
      "metadata": {
        "id": "yakGTro0AkXu",
        "colab_type": "text"
      },
      "source": [
        "Confusion matrix for neural network model"
      ]
    },
    {
      "cell_type": "code",
      "metadata": {
        "id": "ibyhfvYdAkXv",
        "colab_type": "code",
        "colab": {},
        "outputId": "c9b1cbc5-4f8c-432f-a85a-eddd4575abed"
      },
      "source": [
        "predictions = nn_model.predict_classes(X_test)\n",
        "cm = confusion_matrix(y_test.to_numpy(), predictions)\n",
        "sns.heatmap(cm, cmap=\"Blues\")"
      ],
      "execution_count": null,
      "outputs": [
        {
          "output_type": "execute_result",
          "data": {
            "text/plain": [
              "<matplotlib.axes._subplots.AxesSubplot at 0x7f5de0310b90>"
            ]
          },
          "metadata": {
            "tags": []
          },
          "execution_count": 1083
        },
        {
          "output_type": "display_data",
          "data": {
            "image/png": "[encoded data removed]",
            "text/plain": [
              "<Figure size 432x288 with 2 Axes>"
            ]
          },
          "metadata": {
            "tags": [],
            "needs_background": "light"
          }
        }
      ]
    },
    {
      "cell_type": "markdown",
      "metadata": {
        "id": "qjKST6TiAkXz",
        "colab_type": "text"
      },
      "source": [
        "Frequency of predicted values"
      ]
    },
    {
      "cell_type": "code",
      "metadata": {
        "id": "o07j0Sc_AkXz",
        "colab_type": "code",
        "colab": {},
        "outputId": "d5b273f3-e064-4081-f8b7-bdf45814b2ff"
      },
      "source": [
        "unique_elements, counts_elements = np.unique(predictions, return_counts=True)\n",
        "print(np.asarray((unique_elements, counts_elements)))"
      ],
      "execution_count": null,
      "outputs": [
        {
          "output_type": "stream",
          "text": [
            "[[   0    1    2]\n",
            " [1031   10 2643]]\n"
          ],
          "name": "stdout"
        }
      ]
    },
    {
      "cell_type": "markdown",
      "metadata": {
        "id": "6axAmf30AkX2",
        "colab_type": "text"
      },
      "source": [
        "Pie Chart representing wins, losses, ties"
      ]
    },
    {
      "cell_type": "code",
      "metadata": {
        "id": "wpZxX4MrAkX3",
        "colab_type": "code",
        "colab": {},
        "outputId": "384a2c39-438a-4422-a478-3d7709c5a24a"
      },
      "source": [
        "labels = 'Home country won', 'Home country Lost', 'Tie'\n",
        "sizes = [len(merged_df.loc[merged_df['is_won']==True]), len(merged_df.loc[merged_df['is_won']==False]),len(merged_df.loc[merged_df['away_score']==merged_df['home_score']])]\n",
        "colors = ['skyblue', 'yellowgreen', 'lightcoral']\n",
        "explode = (0, 0, 0.1)  # explode 1st slice\n",
        "\n",
        "# Plot\n",
        "plt.pie(sizes, explode=explode, labels=labels, colors=colors,\n",
        "autopct='%1.1f%%', shadow=True, startangle=140)\n",
        "\n",
        "plt.axis('equal')\n",
        "plt.show()"
      ],
      "execution_count": null,
      "outputs": [
        {
          "output_type": "display_data",
          "data": {
            "image/png": "[encoded data removed]",
            "text/plain": [
              "<Figure size 432x288 with 1 Axes>"
            ]
          },
          "metadata": {
            "tags": []
          }
        }
      ]
    },
    {
      "cell_type": "markdown",
      "metadata": {
        "id": "l7mSo9X3AkX5",
        "colab_type": "text"
      },
      "source": [
        "Function to show change in ranks and poinsts over time"
      ]
    },
    {
      "cell_type": "code",
      "metadata": {
        "id": "O7HDPUvoAkX6",
        "colab_type": "code",
        "colab": {},
        "outputId": "e31416ee-14ea-4d1e-d5cd-429abf28e414"
      },
      "source": [
        "rankings_df.dtypes"
      ],
      "execution_count": null,
      "outputs": [
        {
          "output_type": "execute_result",
          "data": {
            "text/plain": [
              "country_full        object\n",
              "rank_year            int64\n",
              "rank               float64\n",
              "weighted_points    float64\n",
              "dtype: object"
            ]
          },
          "metadata": {
            "tags": []
          },
          "execution_count": 1086
        }
      ]
    },
    {
      "cell_type": "code",
      "metadata": {
        "id": "jcK0MlmgAkX8",
        "colab_type": "code",
        "colab": {}
      },
      "source": [
        "def plot_graph(a,b): \n",
        "  # x axis values \n",
        "  x =  rankings_df['rank_year'].loc[rankings_df['country_full']==a]\n",
        "  # corresponding y axis values \n",
        "  y =  rankings_df[b].loc[rankings_df['country_full']==a]\n",
        "    \n",
        "  # plotting the points  \n",
        "  plt.plot(x, y)  \n",
        "  \n",
        "  \n",
        "  # naming the x axis \n",
        "  plt.xlabel('Year') \n",
        "  # naming the y axis \n",
        "  plt.ylabel(b) \n",
        "    \n",
        "  # giving a title to my graph \n",
        "  plt.title('Change in ' + b + ' of ' + a) \n",
        "    \n",
        "  # function to show the plot \n",
        "  plt.show()"
      ],
      "execution_count": null,
      "outputs": []
    },
    {
      "cell_type": "markdown",
      "metadata": {
        "id": "p_9dB8z5AkYA",
        "colab_type": "text"
      },
      "source": [
        "Plot rank of Germany"
      ]
    },
    {
      "cell_type": "code",
      "metadata": {
        "scrolled": true,
        "id": "jWqzpRp4AkYB",
        "colab_type": "code",
        "colab": {},
        "outputId": "19fa4843-87cc-4d7e-8d88-607242acaa16"
      },
      "source": [
        "plot_graph('Germany','rank')"
      ],
      "execution_count": null,
      "outputs": [
        {
          "output_type": "display_data",
          "data": {
            "image/png": "[encoded data removed]",
            "text/plain": [
              "<Figure size 432x288 with 1 Axes>"
            ]
          },
          "metadata": {
            "tags": [],
            "needs_background": "light"
          }
        }
      ]
    },
    {
      "cell_type": "markdown",
      "metadata": {
        "id": "4LqMfg1SAkYF",
        "colab_type": "text"
      },
      "source": [
        "Plot rank of Switzerland"
      ]
    },
    {
      "cell_type": "code",
      "metadata": {
        "id": "OMxUPVzAAkYF",
        "colab_type": "code",
        "colab": {},
        "outputId": "c7984160-44df-4c1f-eeee-694812d3ea93"
      },
      "source": [
        "plot_graph('Switzerland','rank')"
      ],
      "execution_count": null,
      "outputs": [
        {
          "output_type": "display_data",
          "data": {
            "image/png": "[encoded data removed]",
            "text/plain": [
              "<Figure size 432x288 with 1 Axes>"
            ]
          },
          "metadata": {
            "tags": [],
            "needs_background": "light"
          }
        }
      ]
    },
    {
      "cell_type": "markdown",
      "metadata": {
        "id": "PTxVTccjAkYJ",
        "colab_type": "text"
      },
      "source": [
        "Generate data for confederations"
      ]
    },
    {
      "cell_type": "code",
      "metadata": {
        "id": "8RkOnz9YAkYJ",
        "colab_type": "code",
        "colab": {}
      },
      "source": [
        "rankings_df = pd.read_csv(\"/home/anish/Engineering/TE/Sem2/SL6/Mini Project/fifa_ranking.csv\")\n",
        "rankings_df = rankings_df.loc[:,['rank', 'country_full', 'cur_year_avg_weighted', 'rank_date', 'two_year_ago_weighted', 'three_year_ago_weighted', 'confederation']]\n",
        "group1=rankings_df['confederation'].unique()\n",
        "group1\n",
        "mean_rank=[]\n",
        "mean_points=[]\n",
        "for a in group1:\n",
        "  c=rankings_df['rank'].loc[rankings_df['confederation']==a].mean()\n",
        "  d=rankings_df['rank'].loc[rankings_df['confederation']==a].mean()\n",
        "  mean_rank.append(c)\n",
        "  mean_points.append(d)"
      ],
      "execution_count": null,
      "outputs": []
    },
    {
      "cell_type": "markdown",
      "metadata": {
        "id": "-7jTVWEGAkYL",
        "colab_type": "text"
      },
      "source": [
        "Ranks by confederation"
      ]
    },
    {
      "cell_type": "code",
      "metadata": {
        "id": "_tJp9EVNAkYM",
        "colab_type": "code",
        "colab": {},
        "outputId": "0269a31f-b700-48b2-9a29-73be9b830f92"
      },
      "source": [
        "fig = plt.figure()\n",
        "ax = fig.add_axes([0,0,1,1])\n",
        "ax.bar(group1,mean_rank)\n",
        "ax.set_ylabel('Avg Rank')\n",
        "plt.show()"
      ],
      "execution_count": null,
      "outputs": [
        {
          "output_type": "display_data",
          "data": {
            "image/png": "[encoded data removed]",
            "text/plain": [
              "<Figure size 432x288 with 1 Axes>"
            ]
          },
          "metadata": {
            "tags": [],
            "needs_background": "light"
          }
        }
      ]
    },
    {
      "cell_type": "markdown",
      "metadata": {
        "id": "VrzmJ9pyAkYO",
        "colab_type": "text"
      },
      "source": [
        "Points by confederation"
      ]
    },
    {
      "cell_type": "code",
      "metadata": {
        "id": "X5zo4aqeAkYO",
        "colab_type": "code",
        "colab": {},
        "outputId": "95fe3a88-ee89-4ad9-c63e-43b38c914ca7"
      },
      "source": [
        "fig = plt.figure()\n",
        "ax = fig.add_axes([0,0,1,1])\n",
        "ax.bar(group1,mean_points)\n",
        "ax.set_ylabel('Avg weighted points')\n",
        "plt.show()"
      ],
      "execution_count": null,
      "outputs": [
        {
          "output_type": "display_data",
          "data": {
            "image/png": "[encoded data removed]",
            "text/plain": [
              "<Figure size 432x288 with 1 Axes>"
            ]
          },
          "metadata": {
            "tags": [],
            "needs_background": "light"
          }
        }
      ]
    }
  ]
}